{
 "cells": [
  {
   "cell_type": "code",
   "execution_count": 19,
   "metadata": {},
   "outputs": [],
   "source": [
    "import urllib.request, json\n",
    "# Configure API request\n",
    "endpoint = \"https://irmaservices.nps.gov/v3/rest/npspecies/urlOptions/categories\"\n",
    "HEADERS = {\"Authorization\":\"SqSrKS0GwSy7rx2p9KZFPLudH11dbbKk0eovdyVD\"}\n",
    "req = urllib.request.Request(endpoint,headers=HEADERS)\n",
    "try: urllib.request.urlopen(req)\n",
    "except urllib.error.URLError as e:\n",
    "    print(e.reason)"
   ]
  },
  {
   "cell_type": "code",
   "execution_count": 20,
   "metadata": {},
   "outputs": [],
   "source": [
    "response = urllib.request.urlopen(req)\n",
    "the_page = response.read()"
   ]
  },
  {
   "cell_type": "code",
   "execution_count": 21,
   "metadata": {},
   "outputs": [
    {
     "data": {
      "text/plain": [
       "b'<ArrayOfQueryOption xmlns:i=\"http://www.w3.org/2001/XMLSchema-instance\"><QueryOption><Value>1 or Mammals or Mammal</Value><Description>Use any one of the values to get results for this category</Description></QueryOption><QueryOption><Value>2 or Birds or Bird</Value><Description>Use any one of the values to get results for this category</Description></QueryOption><QueryOption><Value>4 or Reptiles or Reptile</Value><Description>Use any one of the values to get results for this category</Description></QueryOption><QueryOption><Value>5 or Amphibians or Amphibian</Value><Description>Use any one of the values to get results for this category</Description></QueryOption><QueryOption><Value>3 or Fish or Fish</Value><Description>Use any one of the values to get results for this category</Description></QueryOption><QueryOption><Value>11 or Vascular Plants or Vascular Plant</Value><Description>Use any one of the values to get results for this category</Description></QueryOption><QueryOption><Value>12 or Non-vascular Plants or Non-vascular Plant</Value><Description>Use any one of the values to get results for this category</Description></QueryOption><QueryOption><Value>7 or Crab/Lobsters/Shrimp or Crab/Lobster/Shrimp</Value><Description>Use any one of the values to get results for this category</Description></QueryOption><QueryOption><Value>9 or Slugs/Snails or Slug/Snail</Value><Description>Use any one of the values to get results for this category</Description></QueryOption><QueryOption><Value>6 or Spiders/Scorpions or Spider/Scorpion</Value><Description>Use any one of the values to get results for this category</Description></QueryOption><QueryOption><Value>8 or Insects or Insect</Value><Description>Use any one of the values to get results for this category</Description></QueryOption><QueryOption><Value>10 or Other Non-vertebrates or Other Non-vertebrates</Value><Description>Use any one of the values to get results for this category</Description></QueryOption><QueryOption><Value>13 or Fungi or Fungi</Value><Description>Use any one of the values to get results for this category</Description></QueryOption><QueryOption><Value>14 or Protozoa or Protozoa</Value><Description>Use any one of the values to get results for this category</Description></QueryOption><QueryOption><Value>16 or Chromista or Chromista</Value><Description>Use any one of the values to get results for this category</Description></QueryOption><QueryOption><Value>15 or Bacteria or Bacteria</Value><Description>Use any one of the values to get results for this category</Description></QueryOption><QueryOption><Value>17 or Archaea or Archaea</Value><Description>Use any one of the values to get results for this category</Description></QueryOption></ArrayOfQueryOption>'"
      ]
     },
     "execution_count": 21,
     "metadata": {},
     "output_type": "execute_result"
    }
   ],
   "source": [
    "the_page"
   ]
  },
  {
   "cell_type": "code",
   "execution_count": 27,
   "metadata": {},
   "outputs": [
    {
     "name": "stdout",
     "output_type": "stream",
     "text": [
      "{'6'} does not match any category names or codes\n"
     ]
    }
   ],
   "source": [
    "endpoint = \"https://irmaservices.nps.gov/v3/rest/npspecies/detaillist/{unitCode}/{'6'}\"\n",
    "HEADERS = {\"Authorization\":\"SqSrKS0GwSy7rx2p9KZFPLudH11dbbKk0eovdyVD\"}\n",
    "req = urllib.request.Request(endpoint,headers=HEADERS)\n",
    "try: urllib.request.urlopen(req)\n",
    "except urllib.error.URLError as e:\n",
    "    print(e.reason)"
   ]
  },
  {
   "cell_type": "code",
   "execution_count": null,
   "metadata": {},
   "outputs": [],
   "source": [
    "response = urllib.request.urlopen(req)\n",
    "the_page = response.read()"
   ]
  }
 ],
 "metadata": {
  "kernelspec": {
   "display_name": "Python 3",
   "language": "python",
   "name": "python3"
  },
  "language_info": {
   "codemirror_mode": {
    "name": "ipython",
    "version": 3
   },
   "file_extension": ".py",
   "mimetype": "text/x-python",
   "name": "python",
   "nbconvert_exporter": "python",
   "pygments_lexer": "ipython3",
   "version": "3.6.9"
  }
 },
 "nbformat": 4,
 "nbformat_minor": 2
}
